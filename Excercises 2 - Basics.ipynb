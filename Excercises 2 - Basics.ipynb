{
 "cells": [
  {
   "cell_type": "markdown",
   "metadata": {},
   "source": [
    "Write a function translate() that will translate a text into \"rövarspråket\" (Swedish for \"robber's language\"). That is, double every consonant and place an occurrence of \"o\" in between. For example, translate(\"this is fun\") should return the string \"tothohisos isos fofunon\"."
   ]
  },
  {
   "cell_type": "code",
   "execution_count": 8,
   "metadata": {},
   "outputs": [],
   "source": [
    "def translate(string):\n",
    "    vowels = ['a', 'e', 'i', 'o', 'u', ' ']\n",
    "    result = \"\"\n",
    "    for i in string:\n",
    "        if i not in vowels:\n",
    "            result += i + 'o' + i\n",
    "        else:\n",
    "            result += i\n",
    "    \n",
    "    return result\n"
   ]
  },
  {
   "cell_type": "code",
   "execution_count": 9,
   "metadata": {},
   "outputs": [
    {
     "data": {
      "text/plain": [
       "'tothohisos isos fofunon'"
      ]
     },
     "execution_count": 9,
     "metadata": {},
     "output_type": "execute_result"
    }
   ],
   "source": [
    "translate(\"this is fun\")"
   ]
  },
  {
   "cell_type": "markdown",
   "metadata": {},
   "source": [
    "Define a function sum() and a function multiply() that sums and multiplies (respectively) all the numbers in a list of numbers. For example, sum([1, 2, 3, 4]) should return 10, and multiply([1, 2, 3, 4]) should return 24"
   ]
  },
  {
   "cell_type": "code",
   "execution_count": 10,
   "metadata": {},
   "outputs": [],
   "source": [
    "def sum(arr):\n",
    "    ans = 0\n",
    "    for i in arr:\n",
    "        ans += i\n",
    "    \n",
    "    return ans\n",
    "\n",
    "def multiply(arr):\n",
    "    ans = 1\n",
    "    for i in arr:\n",
    "        ans *= i\n",
    "    \n",
    "    return ans"
   ]
  },
  {
   "cell_type": "code",
   "execution_count": 11,
   "metadata": {},
   "outputs": [
    {
     "data": {
      "text/plain": [
       "10"
      ]
     },
     "execution_count": 11,
     "metadata": {},
     "output_type": "execute_result"
    }
   ],
   "source": [
    "sum([1,2,3,4])"
   ]
  },
  {
   "cell_type": "code",
   "execution_count": 12,
   "metadata": {},
   "outputs": [
    {
     "data": {
      "text/plain": [
       "24"
      ]
     },
     "execution_count": 12,
     "metadata": {},
     "output_type": "execute_result"
    }
   ],
   "source": [
    "multiply([1,2,3,4])"
   ]
  },
  {
   "cell_type": "markdown",
   "metadata": {},
   "source": [
    "**Define a function reverse() that computes the reversal of a string. For example, reverse(\"I am testing\") should return the string \"gnitset ma I**"
   ]
  },
  {
   "cell_type": "code",
   "execution_count": 13,
   "metadata": {},
   "outputs": [],
   "source": [
    "def reverse(string):\n",
    "    arr = list(string.split())\n",
    "    ans = []\n",
    "    for i in arr:\n",
    "        ans.append(i[::-1])\n",
    "    \n",
    "    return \" \".join(ans[::-1])"
   ]
  },
  {
   "cell_type": "code",
   "execution_count": 14,
   "metadata": {},
   "outputs": [
    {
     "data": {
      "text/plain": [
       "'gnitset ma I'"
      ]
     },
     "execution_count": 14,
     "metadata": {},
     "output_type": "execute_result"
    }
   ],
   "source": [
    "reverse(\"I am testing\")"
   ]
  },
  {
   "cell_type": "markdown",
   "metadata": {},
   "source": [
    "**Define a function is_palindrome() that recognizes palindromes (i.e. words that look the same written backwards). For example, is_palindrome(\"radar\") should return True.**"
   ]
  },
  {
   "cell_type": "code",
   "execution_count": 15,
   "metadata": {},
   "outputs": [],
   "source": [
    "def is_palindrome(string):\n",
    "    i, j = 0, len(string)-1\n",
    "    while i <= j:\n",
    "        if string[i] == string[j]:\n",
    "            i += 1\n",
    "            j -= 1\n",
    "        else:\n",
    "            return False\n",
    "    \n",
    "    return True"
   ]
  },
  {
   "cell_type": "code",
   "execution_count": 16,
   "metadata": {},
   "outputs": [
    {
     "data": {
      "text/plain": [
       "True"
      ]
     },
     "execution_count": 16,
     "metadata": {},
     "output_type": "execute_result"
    }
   ],
   "source": [
    "is_palindrome(\"radar\")"
   ]
  },
  {
   "cell_type": "markdown",
   "metadata": {},
   "source": [
    "**Write a function is_member() that takes a value (i.e. a number, string, etc) x and a list of values a, and returns True if x is a member of a, False otherwise.**"
   ]
  },
  {
   "cell_type": "code",
   "execution_count": 17,
   "metadata": {},
   "outputs": [],
   "source": [
    "def is_member(x, arr):\n",
    "    if x in arr:\n",
    "        return True\n",
    "    else:\n",
    "        return False"
   ]
  },
  {
   "cell_type": "code",
   "execution_count": 18,
   "metadata": {},
   "outputs": [
    {
     "data": {
      "text/plain": [
       "True"
      ]
     },
     "execution_count": 18,
     "metadata": {},
     "output_type": "execute_result"
    }
   ],
   "source": [
    "is_member(3, [1,2,3,4,5])"
   ]
  },
  {
   "cell_type": "code",
   "execution_count": 19,
   "metadata": {},
   "outputs": [
    {
     "data": {
      "text/plain": [
       "True"
      ]
     },
     "execution_count": 19,
     "metadata": {},
     "output_type": "execute_result"
    }
   ],
   "source": [
    "is_member(\"dog\", ['cat', 'dog', 'bird', 'goat'])"
   ]
  },
  {
   "cell_type": "markdown",
   "metadata": {},
   "source": [
    "**Define a function overlapping() that takes two lists and returns True if they have at least one member in common, False otherwise. You may use your is_member() function, or the in operator, but for the sake of the exercise, you should (also) write it using two nested for-loops.**"
   ]
  },
  {
   "cell_type": "code",
   "execution_count": 20,
   "metadata": {},
   "outputs": [],
   "source": [
    "def overlapping(arr1, arr2):\n",
    "    for i in arr1:\n",
    "        for j in arr2:\n",
    "            if i == j:\n",
    "                return True\n",
    "\n",
    "    return False"
   ]
  },
  {
   "cell_type": "code",
   "execution_count": 21,
   "metadata": {},
   "outputs": [
    {
     "data": {
      "text/plain": [
       "True"
      ]
     },
     "execution_count": 21,
     "metadata": {},
     "output_type": "execute_result"
    }
   ],
   "source": [
    "overlapping([1,2,3,4,5], [3,4,5,6])"
   ]
  },
  {
   "cell_type": "code",
   "execution_count": 22,
   "metadata": {},
   "outputs": [
    {
     "data": {
      "text/plain": [
       "False"
      ]
     },
     "execution_count": 22,
     "metadata": {},
     "output_type": "execute_result"
    }
   ],
   "source": [
    "overlapping([1,2,3,4], [5,6,7,8])"
   ]
  },
  {
   "cell_type": "markdown",
   "metadata": {},
   "source": [
    "**Define a procedure histogram() that takes a list of integers and prints a histogram to the screen. For example, histogram([4, 9, 7]) should print the following:(click on next cell to see)**\n"
   ]
  },
  {
   "cell_type": "markdown",
   "metadata": {},
   "source": [
    "****\n",
    "*********\n",
    "*******"
   ]
  },
  {
   "cell_type": "code",
   "execution_count": 23,
   "metadata": {},
   "outputs": [],
   "source": [
    "def histogram(arr):\n",
    "    for i in arr:\n",
    "        for j in range(i):\n",
    "            print(\"*\", end=\"\")\n",
    "        print()"
   ]
  },
  {
   "cell_type": "code",
   "execution_count": 24,
   "metadata": {},
   "outputs": [
    {
     "name": "stdout",
     "output_type": "stream",
     "text": [
      "****\n",
      "*********\n",
      "*******\n"
     ]
    }
   ],
   "source": [
    "histogram([4,9,7])"
   ]
  },
  {
   "cell_type": "markdown",
   "metadata": {},
   "source": [
    "**Write a function char_freq() that takes a string and builds a frequency listing of the characters contained in it. Represent the frequency listing as a Python dictionary. Try it with something like char_freq(\"abbabcbdbabdbdbabababcbcbab\").**\n",
    "\n"
   ]
  },
  {
   "cell_type": "code",
   "execution_count": 25,
   "metadata": {},
   "outputs": [],
   "source": [
    "def char_freq(string):\n",
    "    ans = {}\n",
    "    for i in string:\n",
    "        if i not in ans:\n",
    "            ans[i] = 0\n",
    "        ans[i] += 1\n",
    "\n",
    "    return ans"
   ]
  },
  {
   "cell_type": "code",
   "execution_count": 26,
   "metadata": {},
   "outputs": [
    {
     "data": {
      "text/plain": [
       "{'a': 7, 'b': 14, 'c': 3, 'd': 3}"
      ]
     },
     "execution_count": 26,
     "metadata": {},
     "output_type": "execute_result"
    }
   ],
   "source": [
    "char_freq(\"abbabcbdbabdbdbabababcbcbab\")"
   ]
  },
  {
   "cell_type": "markdown",
   "metadata": {},
   "source": [
    "A certain childrens game involves starting with a word in a particular category. Each participant in turn says a word, but that word must begin with the final letter of the previous word. Once a word has been given, it cannot be repeated. If an opponent cannot give a word in the category, they fall out of the game. For example, with \"animals\" as the category,\n",
    "Child 1: dog \n",
    "Child 2: goldfish\n",
    "Child 1: hippopotamus\n",
    "Child 2: snake\n",
    "...\n",
    "Your task in this exercise is as follows: Take the following selection of 70 English Pokemon names (extracted from Wikipedia's list of Pokemon) and generate the/a sequence with the highest possible number of Pokemon names where the subsequent name starts with the final letter of the preceding name. No Pokemon name is to be repeated.\n",
    "**audino bagon baltoy banette bidoof braviary bronzor carracosta charmeleon\n",
    "cresselia croagunk darmanitan deino emboar emolga exeggcute gabite\n",
    "girafarig gulpin haxorus heatmor heatran ivysaur jellicent jumpluff kangaskhan\n",
    "kricketune landorus ledyba loudred lumineon lunatone machamp magnezone mamoswine\n",
    "nosepass petilil pidgeotto pikachu pinsir poliwrath poochyena porygon2\n",
    "porygonz registeel relicanth remoraid rufflet sableye scolipede scrafty seaking\n",
    "sealeo silcoon simisear snivy snorlax spoink starly tirtouga trapinch treecko\n",
    "tyrogue vigoroth vulpix wailord wartortle whismur wingull yamask**\n",
    "\n"
   ]
  },
  {
   "cell_type": "code",
   "execution_count": 5,
   "metadata": {},
   "outputs": [],
   "source": [
    "pokemon_str = \"\"\"audino bagon baltoy banette bidoof braviary bronzor carracosta charmeleon\n",
    "cresselia croagunk darmanitan deino emboar emolga exeggcute gabite\n",
    "girafarig gulpin haxorus heatmor heatran ivysaur jellicent jumpluff kangaskhan\n",
    "kricketune landorus ledyba loudred lumineon lunatone machamp magnezone mamoswine\n",
    "nosepass petilil pidgeotto pikachu pinsir poliwrath poochyena porygon2\n",
    "porygonz registeel relicanth remoraid rufflet sableye scolipede scrafty seaking\n",
    "sealeo silcoon simisear snivy snorlax spoink starly tirtouga trapinch treecko\n",
    "tyrogue vigoroth vulpix wailord wartortle whismur wingull yamask\"\"\"\n",
    "\n",
    "pokemon = list(map(str, pokemon_str.split()))\n",
    "\n",
    "def name_starts_with(lastletter, names):\n",
    "\tfor index, name in enumerate(names):\n",
    "\t\tif name.startswith(lastletter):\n",
    "\t\t\treturn index\n",
    "\treturn False\n",
    "\n",
    "def poke_name():\n",
    "    longest_series, current_series = [], []\n",
    "    for name in pokemon:\n",
    "        current_name = name\n",
    "        current_series.append(current_name)\n",
    "        namelist = pokemon.copy()\n",
    "        namelist.pop(namelist.index(current_name))\n",
    "        index = name_starts_with(current_name[-1], namelist)\n",
    "        \n",
    "        while index is not False:\n",
    "            current_name = namelist[index]\n",
    "            current_series.append(current_name)\n",
    "            namelist.pop(index) \n",
    "            index = name_starts_with(current_name[-1], namelist)\n",
    "            \n",
    "        if len(current_series) > len(longest_series):\n",
    "            longest_series = current_series\n",
    "            \n",
    "        current_series = []\n",
    "    \n",
    "    return longest_series"
   ]
  },
  {
   "cell_type": "code",
   "execution_count": 6,
   "metadata": {},
   "outputs": [
    {
     "data": {
      "text/plain": [
       "['baltoy',\n",
       " 'yamask',\n",
       " 'kangaskhan',\n",
       " 'nosepass',\n",
       " 'sableye',\n",
       " 'emboar',\n",
       " 'registeel',\n",
       " 'landorus',\n",
       " 'scolipede',\n",
       " 'emolga',\n",
       " 'audino']"
      ]
     },
     "execution_count": 6,
     "metadata": {},
     "output_type": "execute_result"
    }
   ],
   "source": [
    "poke_name()"
   ]
  },
  {
   "cell_type": "markdown",
   "metadata": {},
   "source": [
    "**Write a program able to play the \"Guess the number\"-game, where the number to be guessed is randomly chosen between 1 and 20. (Source: http://inventwithpython.com) This is how it should work when run in a terminal:\n",
    "\n",
    "Hello! What is your name?\n",
    "Torbjörn\n",
    "Well, Torbjörn, I am thinking of a number between 1 and 20.\n",
    "Take a guess.\n",
    "10\n",
    "Your guess is too low.\n",
    "Take a guess.\n",
    "15\n",
    "Your guess is too low.\n",
    "Take a guess.\n",
    "18\n",
    "Good job, Torbjörn! You guessed my number in 3 guesses!***"
   ]
  },
  {
   "cell_type": "code",
   "execution_count": 28,
   "metadata": {},
   "outputs": [],
   "source": [
    "import random\n",
    "\n",
    "def guess_the_number():\n",
    "    name = input(\"Hello! What is your name? \")\n",
    "    print(\"Well,\", name, \"I am thinking of a number between 1 and 20.\")\n",
    "    number = random.randint(1, 20)\n",
    "    guess = -1\n",
    "    count = 0\n",
    "    while True:\n",
    "        print(\"Take a guess.\")\n",
    "        guess = int(input())\n",
    "        count += 1\n",
    "        if number-guess < 0:\n",
    "            print(\"Your guess is too high.\")\n",
    "        if number-guess > 0:\n",
    "            print(\"Your guess is too low.\")\n",
    "        if number == guess:\n",
    "            print(\"Good job, \"+ name +\"! You guessed my number in\", count, \"guesses!\")\n",
    "            break"
   ]
  },
  {
   "cell_type": "code",
   "execution_count": 32,
   "metadata": {},
   "outputs": [
    {
     "name": "stdout",
     "output_type": "stream",
     "text": [
      "Well, Suryam I am thinking of a number between 1 and 20.\n",
      "Take a guess.\n",
      "Your guess is too low.\n",
      "Take a guess.\n",
      "Your guess is too high.\n",
      "Take a guess.\n",
      "Your guess is too high.\n",
      "Take a guess.\n",
      "Your guess is too low.\n",
      "Take a guess.\n",
      "Your guess is too low.\n",
      "Take a guess.\n",
      "Good job, Suryam! You guessed my number in 6 guesses!\n"
     ]
    }
   ],
   "source": [
    "guess_the_number()"
   ]
  },
  {
   "cell_type": "markdown",
   "metadata": {},
   "source": [
    "***Write a program that maps a list of words into a list of integers representing the lengths of the correponding words.***\n"
   ]
  },
  {
   "cell_type": "code",
   "execution_count": 30,
   "metadata": {},
   "outputs": [],
   "source": [
    "def map_length(string):\n",
    "    return list(map(len, string.split()))"
   ]
  },
  {
   "cell_type": "code",
   "execution_count": 31,
   "metadata": {},
   "outputs": [
    {
     "data": {
      "text/plain": [
       "[6, 7, 3, 3, 4]"
      ]
     },
     "execution_count": 31,
     "metadata": {},
     "output_type": "execute_result"
    }
   ],
   "source": [
    "map_length(\"Hello! Suryam. How are you?\")"
   ]
  }
 ],
 "metadata": {
  "kernelspec": {
   "display_name": "Python 3",
   "language": "python",
   "name": "python3"
  },
  "language_info": {
   "codemirror_mode": {
    "name": "ipython",
    "version": 3
   },
   "file_extension": ".py",
   "mimetype": "text/x-python",
   "name": "python",
   "nbconvert_exporter": "python",
   "pygments_lexer": "ipython3",
   "version": "3.10.1"
  }
 },
 "nbformat": 4,
 "nbformat_minor": 2
}
